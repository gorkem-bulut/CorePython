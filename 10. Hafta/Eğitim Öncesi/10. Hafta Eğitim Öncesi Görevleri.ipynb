{
 "cells": [
  {
   "attachments": {},
   "cell_type": "markdown",
   "metadata": {},
   "source": [
    "# Problem 1"
   ]
  },
  {
   "cell_type": "code",
   "execution_count": 112,
   "metadata": {},
   "outputs": [
    {
     "name": "stdout",
     "output_type": "stream",
     "text": [
      "[7 4 4 8 7]\n",
      "(5,)\n",
      "[[7]\n",
      " [4]\n",
      " [4]\n",
      " [8]\n",
      " [7]]\n",
      "1\n"
     ]
    }
   ],
   "source": [
    "# 1 - numpy kütüphanesini import edin\n",
    "import numpy as np\n",
    "\n",
    "# 2 - 0 ile 10 arasında 5 sayıdan oluşan matris üretin\n",
    "matris = np.random.randint(0, 10, 5)\n",
    "print(matris)\n",
    "\n",
    "# 3 - matris'in boyutunu öğrenin\n",
    "print(matris.shape)\n",
    "\n",
    "# 4 - matris'i yeniden boyutlandırın\n",
    "print(matris.reshape(5,1))\n",
    "\n",
    "# 5 - matris'in boyut sayısını öğrenin\n",
    "print(matris.ndim)"
   ]
  },
  {
   "attachments": {},
   "cell_type": "markdown",
   "metadata": {},
   "source": [
    "# Problem 2"
   ]
  },
  {
   "cell_type": "code",
   "execution_count": 92,
   "metadata": {},
   "outputs": [
    {
     "name": "stdout",
     "output_type": "stream",
     "text": [
      "[1 3 5 7 9]\n",
      "[[1]\n",
      " [3]\n",
      " [5]\n",
      " [7]\n",
      " [9]]\n"
     ]
    },
    {
     "data": {
      "text/plain": [
       "array([1, 3, 5, 7, 9])"
      ]
     },
     "execution_count": 92,
     "metadata": {},
     "output_type": "execute_result"
    }
   ],
   "source": [
    "# 1 - 0 ile 10 arasında bulunan tek sayılardan oluşan matris üretin\n",
    "seri = np.array(range(1, 11, 2)) \n",
    "print(seri)\n",
    "\n",
    "# 2 - Oluşturduğunuz matrisi parçalayın\n",
    "_seri = seri.reshape(5,1)\n",
    "print(_seri)\n",
    "\n",
    "# 3 - Parçalanmış matrisleri birleştirin\n",
    "np.concatenate(_seri)   "
   ]
  },
  {
   "attachments": {},
   "cell_type": "markdown",
   "metadata": {},
   "source": [
    "# Problem 3"
   ]
  },
  {
   "cell_type": "code",
   "execution_count": 78,
   "metadata": {},
   "outputs": [
    {
     "name": "stdout",
     "output_type": "stream",
     "text": [
      "[ -54.97869166  -23.00949637  -29.45614319 -158.60288295 -110.19861818\n",
      " -155.54523903  -99.59774268  -71.09732911  -75.00039855  -34.87667879\n",
      "  160.11311785  -53.31045066  -42.30210368   16.89910077   59.0202252\n",
      "   65.31661384   72.66419002  153.47163013  -48.63540555   68.21264054]/\n",
      "\n",
      "[ -54.97869166  -29.45614319 -110.19861818  -99.59774268  -75.00039855\n",
      "  160.11311785  -42.30210368   59.0202252    72.66419002  -48.63540555]\n",
      "\n",
      "20\n",
      "(20,)\n",
      "1\n",
      "float64\n"
     ]
    }
   ],
   "source": [
    "# 1 - 5 ile 100 arasında ikişer ikişer atlayarak rastgele 10 sayıdan oluşan matris üretin\n",
    "a = np.random.normal(5, 100, 20)\n",
    "print(f\"{a}/\\n\")\n",
    "print(f\"{a[0::2]}\\n\")\n",
    "\n",
    "# 2 - matris'in özelliklerini inceleyin\n",
    "print(a.size) #size: Toplam Eleman Sayisi\n",
    "print(a.shape) #shape: Boyut Bilgisi\n",
    "print(a.ndim)  #ndim: Boyut Sayisi\n",
    "print(a.dtype) #dtype: Veri Tipi"
   ]
  }
 ],
 "metadata": {
  "kernelspec": {
   "display_name": "Python 3",
   "language": "python",
   "name": "python3"
  },
  "language_info": {
   "codemirror_mode": {
    "name": "ipython",
    "version": 3
   },
   "file_extension": ".py",
   "mimetype": "text/x-python",
   "name": "python",
   "nbconvert_exporter": "python",
   "pygments_lexer": "ipython3",
   "version": "3.12.3"
  },
  "orig_nbformat": 4,
  "vscode": {
   "interpreter": {
    "hash": "5026d2d6e7aaaaba093def813beadff083d8733e4a511af01735cbabd156995d"
   }
  }
 },
 "nbformat": 4,
 "nbformat_minor": 2
}

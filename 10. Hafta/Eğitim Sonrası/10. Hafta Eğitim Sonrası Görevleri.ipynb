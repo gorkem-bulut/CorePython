{
 "cells": [
  {
   "attachments": {},
   "cell_type": "markdown",
   "metadata": {},
   "source": [
    "# Problem 1 "
   ]
  },
  {
   "cell_type": "code",
   "execution_count": 5,
   "metadata": {},
   "outputs": [
    {
     "name": "stdout",
     "output_type": "stream",
     "text": [
      "[ 1 34 37 45 87]\n"
     ]
    }
   ],
   "source": [
    "# 1 - numpy kütüphanesini import edin\n",
    "import numpy as np\n",
    "\n",
    "# 2 - 5 elemanlı bir numpy array oluşturun\n",
    "array = np.array([45,1,37,87,34])\n",
    "\n",
    "# 3 - Oluşturduğunuz arrayi küçükten büyüğe sıralayın.\n",
    "array.sort()\n",
    "print(array)"
   ]
  },
  {
   "attachments": {},
   "cell_type": "markdown",
   "metadata": {},
   "source": [
    "# Problem 2"
   ]
  },
  {
   "cell_type": "code",
   "execution_count": null,
   "metadata": {},
   "outputs": [],
   "source": [
    "#15 tekrar bak"
   ]
  },
  {
   "cell_type": "code",
   "execution_count": 6,
   "metadata": {},
   "outputs": [
    {
     "name": "stdout",
     "output_type": "stream",
     "text": [
      "[10 15 30 45 60]\n",
      "[ 1  2  3  4  5  6  7  8  9 10 11 12 13 14]\n",
      "[ 50  55  60  65  70  75  80  85  90  95 100]\n",
      "[0. 0. 0. 0. 0. 0. 0. 0. 0. 0.]\n",
      "[1. 1. 1. 1. 1. 1. 1. 1. 1. 1.]\n",
      "[  0.  25.  50.  75. 100.]\n",
      "[15 26 14 18 27]\n",
      "[-0.45048289  0.9958681  -0.57133309 -0.01399703  0.53500253  0.66531262\n",
      " -0.05152229 -0.65960211  0.25200878 -0.38493424]\n",
      "[[ 26.83274868   2.02640018 -39.04737635  24.70211566  80.24365401]\n",
      " [-76.09520142  31.04408183  43.04311482  37.5182422   58.05672898]\n",
      " [ 58.32217997  60.08869464  84.98097259 -49.23040621   9.46666876]]\n",
      "[ 94.75754218  93.5669664  163.62810975]\n",
      "[  9.05972723  93.15917664  88.97671106  12.98995166 147.76705175]\n",
      "84.9809725852608\n",
      "-76.09520142136023\n",
      "23.46350788883047\n",
      "84.9809725852608\n",
      "[10 11 12]\n",
      "[20 19 18 17 16 15 14 13 12 11 10]\n",
      "[]\n",
      "[12]\n",
      "10\n",
      "[100 121 144 169 196 225 256 289 324 361 400]\n"
     ]
    }
   ],
   "source": [
    "# 1- (10,15,30,45,60) değerlerine sahip numpy dizisi oluşturunuz.\n",
    "_1 = np.array([10, 15, 30, 45, 60])\n",
    "print(_1)\n",
    "\n",
    "# 2- (5-15) arasındaki sayılarla numpy dizisi oluşturunuz.\n",
    "_2 = np.arange(1,15,1)\n",
    "print(_2)\n",
    "\n",
    "# 3- (50-100) arasında 5'er 5'er artarak numpy dizisi oluşturunuz.\n",
    "_3 = np.arange(50, 101, 5)\n",
    "print(_3)\n",
    "\n",
    "# 4- 10 elemanlı sıfırlardan oluşan bir dizi oluşturunuz.\n",
    "_4 = np.zeros(10)\n",
    "print(_4)\n",
    "\n",
    "# 5- 10 elemanlı birlerden oluşan bir dizi oluşturunuz.\n",
    "_5 = np.ones(10)\n",
    "print(_5)\n",
    "\n",
    "# 6- (0-100) arasında eşit aralıklı 5 sayı üretin.\n",
    "_6 = np.linspace(0, 100, 5)\n",
    "print(_6)\n",
    "\n",
    "# 7- (10-30) arasında rastgele 5 tane tamsayı üretin.\n",
    "_7 = np.random.randint(10, 30, 5)\n",
    "print(_7)\n",
    "\n",
    "# 8- [-1 ile 1] arasında 10 adet sayı üretin.\n",
    "_8 = np.random.uniform(-1, 1, 10) #Generates numbers specificly between 1 and -1 and takes parameters*\n",
    "print(_8)\n",
    "\n",
    "# 9- (3x5) boyutlarında (10-50) arasında rastgele bir matris oluşturunuz.\n",
    "_9 = np.random.normal(10, 50, (3, 5))\n",
    "print(_9)\n",
    "\n",
    "matris = _9\n",
    "\n",
    "# 10- Üretilen matrisin satır ve sütun sayıları toplamlarını hesaplayınız ?\n",
    "toplam_satir = np.sum(matris, axis=1)\n",
    "print(toplam_satir)\n",
    "\n",
    "toplam_sutun = np.sum(matris, axis=0)\n",
    "print(toplam_sutun)\n",
    "\n",
    "# 11- Üretilen matrisin en büyük, en küçük ve ortalaması nedir ?\n",
    "print(matris.max())\n",
    "print(matris.min())\n",
    "print(matris.mean())\n",
    "\n",
    "# 12- Üretilen matrisin en büyük değerinin indeksi kaçtır ?\n",
    "print(np.max(matris))\n",
    "\n",
    "# 13- (10-20) arasındaki sayıları içeren dizinin ilk 3 elemanını seçiniz.\n",
    "seri2 = np.arange(10, 21)\n",
    "print(seri2[0:3])\n",
    "\n",
    "# 14- Üretilen dizinin elemanlarını tersten yazdırın.\n",
    "print(seri2[::-1])\n",
    "\n",
    "# 15- Üretilen matrisin ilk satırını seçiniz.\n",
    "print(seri2[:0]) #bak\n",
    "\n",
    "# 16- Üretilen matrisin 2.satır 3.sütundaki elemanı hangisidir ?\n",
    "print(seri2[2:3])\n",
    "\n",
    "# 17- Üretilen matrisin tüm satırlardaki ilk elemanı seçiniz.\n",
    "print(seri2[0])\n",
    "\n",
    "# 18- Üretilen matrisin her bir elemanının karesini alınız.\n",
    "def power(x):\n",
    "    print(x**2)\n",
    "power(seri2)\n",
    "\n",
    "# 19- Üretilen matris elemanlarının hangisi pozitif çift sayıdır ? Aralığı (-50,+50) arasında yapınız.\n",
    "_19 = np.random.randint(-50, 51, size=(3, 5))\n",
    "__19 = _19[(_19 > 0) & (_19 % 2 == 0)]"
   ]
  }
 ],
 "metadata": {
  "kernelspec": {
   "display_name": "Python 3",
   "language": "python",
   "name": "python3"
  },
  "language_info": {
   "codemirror_mode": {
    "name": "ipython",
    "version": 3
   },
   "file_extension": ".py",
   "mimetype": "text/x-python",
   "name": "python",
   "nbconvert_exporter": "python",
   "pygments_lexer": "ipython3",
   "version": "3.12.3"
  },
  "orig_nbformat": 4,
  "vscode": {
   "interpreter": {
    "hash": "5026d2d6e7aaaaba093def813beadff083d8733e4a511af01735cbabd156995d"
   }
  }
 },
 "nbformat": 4,
 "nbformat_minor": 2
}

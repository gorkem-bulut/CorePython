{
  "cells": [
    {
      "cell_type": "markdown",
      "metadata": {
        "id": "tsD4YVAe_Te2"
      },
      "source": [
        "# Problem 1\n",
        "Bir sayının 7'ye bölünebilir olup olmadığını kontrol etmek \n",
        "için bir program yazın.\n",
        "\n",
        "İpucu: Mod operatörünü (%) kullanabilirsiniz."
      ]
    },
    {
      "cell_type": "code",
      "execution_count": 1,
      "metadata": {
        "id": "NGjvNwKx_Te7"
      },
      "outputs": [
        {
          "name": "stdout",
          "output_type": "stream",
          "text": [
            "False\n"
          ]
        }
      ],
      "source": [
        "# False = Tam bolunemez\n",
        "# True = Tam bolunebilir\n",
        "\n",
        "number = int(input(\"Bir sayi giriniz: \"))\n",
        "print(number % 7 == 0)"
      ]
    },
    {
      "cell_type": "markdown",
      "metadata": {
        "id": "Kg3qiBAI_Te8"
      },
      "source": [
        "# Problem 2\n",
        "Kullanıcıdan vize ve final notu isteyin. Girilen vize notunun %40’ı ve \n",
        "girilen finalnotunun ise %60’ı alınarak yıl sonu not ortalaması hesaplanacaktır. \n",
        "\n",
        "Bu not ortalaması eğer 85 ve üzeri ise AA, \n",
        "\n",
        "75 ve 85 arasında ise BA, \n",
        "\n",
        "70 ve 75 arasında ise BB, \n",
        "\n",
        "65 ve 70 arasında ise CB,\n",
        "\n",
        "60 ve 65 arasında ise CC,\n",
        "\n",
        "55 ve 60 arasında ise DC,\n",
        "\n",
        "50 ve 55 arasında ise DD olarak hesaplanacaktır. \n",
        "\n",
        "Bu öğrencinin yıl sonu toplam notu 50’nin altında ise FF ile dersten kalacaktır. \n",
        "\n",
        "Ayrıca öğrencinin final notu 50’nin altında ise direkt FF ile kalacaktır."
      ]
    },
    {
      "cell_type": "code",
      "execution_count": 15,
      "metadata": {
        "id": "MXTtCxI1_Te8"
      },
      "outputs": [
        {
          "name": "stdout",
          "output_type": "stream",
          "text": [
            "Harf notunuz DD\n"
          ]
        }
      ],
      "source": [
        "# Vize * 0.4\n",
        "# Final * 0.6\n",
        "# Vize + Final = Ortalama\n",
        "\n",
        "vize_notu = int(input(\"Vize notunuzu giriniz: \"))\n",
        "final_notu = int(input(\"Final notunuzu giriniz: \"))\n",
        "ortalama = vize_notu * 0.4 + final_notu * 0.6\n",
        "\n",
        "if final_notu > 50:\n",
        "    if ortalama >= 85:\n",
        "        print(\"Harf notunuz AA\")\n",
        "    elif 75 <= ortalama < 85:\n",
        "        print(\"Harf notunuz BA\")\n",
        "    elif 70 <= ortalama <= 75:\n",
        "        print(\"Harf notunuz CB\")\n",
        "    elif 65 <= ortalama <= 70 :\n",
        "        print(\"Harf notunuz CC\")\n",
        "    elif 60 <= ortalama <= 65:\n",
        "        print(\"Harf notunuz DC\")\n",
        "    elif 50 <= ortalama <= 55:\n",
        "        print(\"Harf notunuz DD\")\n",
        "    else:\n",
        "        print(\"Ortalamaniz 50'nin altinda. Harf notunuz FF\")\n",
        "else:\n",
        "    print(\"Final notunuz 50'nin altinda. Harf notunuz FF\")"
      ]
    },
    {
      "cell_type": "markdown",
      "metadata": {
        "id": "tAoRYCTC_Te8"
      },
      "source": [
        "# Problem 3\n",
        "İki YetGenli Zirve'de karşılaşıyorlar. Birbirlerini tanımak için sorular soruyorlar. Birbirlerine yaşlarını soruyorlar. Akıllarına bir Python programı yazıp, yaşlarını ve isimlerini giriyorlar. Büyük olanın yaşını ekrana yazdıran programı yazıyorlar. Sende bu iki YetGenli'ye destek olmak ister misin?\n",
        "\n",
        "```\n",
        "Birinci YetGenlinin ismi: Ahmet\n",
        "Birinci YetGenlinin yaşı : 20\n",
        "İkinci YetGenlinin ismi: Mehmet\n",
        "İkinci YetGenlinin yaşı : 25\n",
        "Mehmet'in yaşı daha büyük ve yaşı 25'tir.\n",
        "```"
      ]
    },
    {
      "cell_type": "code",
      "execution_count": 53,
      "metadata": {
        "id": "bPjE8W0i_Te8"
      },
      "outputs": [
        {
          "name": "stdout",
          "output_type": "stream",
          "text": [
            "Gorkem'in yasi daha buyuk ve 20 yasinda.\n"
          ]
        }
      ],
      "source": [
        "# 3.Problemin Çözümünü Buraya Yazınız\n",
        "\n",
        "kisi_1 = str(input(\"1. kisinin ismi:\")), int(input(\"1. kisinin yasi:\"))\n",
        "kisi_2 = str(input(\"2. kisinin ismi:\")), int(input(\"2. kisinin yasi:\"))\n",
        "\n",
        "if kisi_2[1] > kisi_1[1] :\n",
        "     print(f\"{kisi_2[0].capitalize()}'in yasi daha buyuk ve {kisi_2[1]} yasinda.\")\n",
        "elif kisi_2[1] == kisi_1[1]:\n",
        "    print(f\"{kisi_1[0].capitalize()} ve {kisi_2[0].capitalize()}'nin yaslari esittir.\")\n",
        "else:\n",
        "    print(f\"{kisi_1[0].capitalize()}'in yasi daha buyuk ve {kisi_1[1]} yasinda.\")\n"
      ]
    },
    {
      "cell_type": "code",
      "execution_count": 135,
      "metadata": {},
      "outputs": [
        {
          "name": "stdout",
          "output_type": "stream",
          "text": [
            "Gorkem'in yasi daha buyuk ve 20 yasinda.\n"
          ]
        }
      ],
      "source": [
        "#Variables\n",
        "isim1 = str(input(\"1. kisinin ismi: \"))\n",
        "yas1 = int(input(\"1. kisinin yasi: \"))\n",
        "\n",
        "isim2 = str(input(\"2. kisinin ismi: \"))\n",
        "yas2 = int(input(\"1. kisinin ismi: \"))\n",
        "\n",
        "#Conditions\n",
        "if yas2 > yas1 :\n",
        "     print(f\"{isim1.capitalize()}'in yasi daha buyuk ve {yas1} yasinda.\")\n",
        "elif yas2 == yas1:\n",
        "    print(f\"{isim1.capitalize()} ve {isim2.capitalize()}'nin yaslari esittir.\")\n",
        "else:\n",
        "    print(f\"{isim1.capitalize()}'in yasi daha buyuk ve {yas1} yasinda.\")"
      ]
    },
    {
      "cell_type": "markdown",
      "metadata": {
        "id": "zBVv8Tyg_Te9"
      },
      "source": [
        "# Problem 4\n",
        "Pandemi döneminde AVM'lerde ateş ölçümü yapılıyor. AVM'ye giren kişinin ateş ölçümü 37.5 derecenin altında ise girişe izin veriliyor. 37.5 derecenin üstünde ise girişe izin verilmiyor. AVM'ye girişe izin verilip verilmediğini ekrana yazdıran bir program yazın.\n",
        "\n",
        "Program sonunda şöyle bir çıktı elde etmelisiniz:\n",
        "\n",
        "```\n",
        "Ateşiniz 37.5 derece. AVM'ye girebilirsin! Maske takmayı unutma!\n",
        "Ateşiniz 37.6 derece. AVM'ye giremezsin! Hemen evine dön!\n",
        "```"
      ]
    },
    {
      "cell_type": "code",
      "execution_count": 60,
      "metadata": {
        "id": "TSAXs8et_Te9"
      },
      "outputs": [
        {
          "name": "stdout",
          "output_type": "stream",
          "text": [
            "Atesiniz 37.5 derece. AVM'ye girebilirsin.\n"
          ]
        }
      ],
      "source": [
        "# 4.Problemin Çözümünü Buraya Yazınız\n",
        "\n",
        "sicaklik = float(input(\"Atesinizi giriniz:\"))\n",
        "\n",
        "if sicaklik > 37.5:\n",
        "    print(f\"Atesiniz {sicaklik} derece. AVM'ye giremezsin!\")\n",
        "else:\n",
        "    print(f\"Atesiniz {sicaklik} derece. AVM'ye girebilirsin.\")"
      ]
    },
    {
      "cell_type": "markdown",
      "metadata": {
        "id": "6AEkZrDt_Te9"
      },
      "source": [
        "# Problem 5\n",
        "YetGen bir spor kulübüyle sponsorluk anlaşması yapıyor. Kulüp, sponsorluk anlaşmasına göre her YetGen liderinin beden kitle indeksini hesaplamak istiyor. Spor kulübü, beden kitle indeksini hesaplamak için YetGen Jump Python liderlerinden Berkcan ve Ahmet'i arıyor. Berkcan ve Ahmet, kulübe yardımcı olmak için bir Python programı yazıyorlar. Sende bu iki YetGen liderine destek olmak ister misin?\n",
        "\n",
        "Kullanıcıdan alınan boy ve kilo değerlerine göre beden kitle indeksini hesaplayın ve şu kurallara göre ekrana şu yazıları yazdırın.\n",
        "\n",
        "\n",
        "Beden Kitle İndeksi, kişinin ağırlığının (kg olarak) boyunun karesine (m olarak) bölünmesiyle hesaplanır.\n",
        "\n",
        "\n",
        "```\n",
        " BKİ 18.5'un altındaysa -------> Zayıf\n",
        "\n",
        " BKİ 18.5 ile 25 arasındaysa ------> Normal\n",
        "\n",
        " BKİ 25 ile 30 arasındaysa --------> Fazla Kilolu\n",
        "\n",
        " BKİ 30'un üstündeyse -------------> Obez\n",
        "```\n",
        "\n"
      ]
    },
    {
      "cell_type": "code",
      "execution_count": 78,
      "metadata": {
        "id": "t-XPI_u0_Te-"
      },
      "outputs": [
        {
          "name": "stdout",
          "output_type": "stream",
          "text": [
            "19.723865877712033\n",
            "Normal\n"
          ]
        }
      ],
      "source": [
        "# 5.Problemin Çözümünü Buraya Yazınız\n",
        "agirlik = float(input(\"Agirliginiz (kg): \"))\n",
        "boy = float(input(\"Boyunuz (cm): \"))\n",
        "\n",
        "bmi = agirlik / (boy/100) ** 2\n",
        "print(bmi)\n",
        "\n",
        "if bmi < 18.5:\n",
        "    print(\"Zayif\")\n",
        "elif 18.5 <= bmi <= 25:\n",
        "    print(\"Normal\")\n",
        "elif 25 < bmi <= 30:\n",
        "    print(\"Fazla Kilolu\")\n",
        "elif 30 < bmi: \n",
        "    print(\"Obez\")"
      ]
    },
    {
      "cell_type": "markdown",
      "metadata": {
        "id": "oFsvQyaO_Te-"
      },
      "source": [
        "# Problem 6\n",
        "Kullanıcıdan isim, yaş ve eğitim bilgilerini isteyip ehliyet alabilme  durumunu kontrol ediniz. \n",
        "\n",
        "Ehliyet alma koşulu en az 18 yaşında ve eğitim durumu lise ya da üniversite olmalıdır. "
      ]
    },
    {
      "cell_type": "code",
      "execution_count": 125,
      "metadata": {
        "id": "Tu2mcgco_Te-"
      },
      "outputs": [
        {
          "name": "stdout",
          "output_type": "stream",
          "text": [
            "Ehliyet alamazsiniz.\n"
          ]
        }
      ],
      "source": [
        "# 6.Problemin Çözümünü Buraya Yazınız\n",
        "\n",
        "kisi = input(\"Isminiz\"), int(input(\"Yasiniz:\")), input(\"Egitim durumunuz: \")\n",
        "\n",
        "if kisi[1] > 18 and kisi[2] == \"lise\" or kisi[2] == \"universite\":\n",
        "    print(f\"{kisi[0].capitalize()}, yasiniz {kisi[1]} ve egitim durumunuz {kisi[2]}. Ehliyet alabilirsiniz.\")\n",
        "else:\n",
        "    print(\"Ehliyet alamazsiniz.\")"
      ]
    },
    {
      "cell_type": "code",
      "execution_count": 134,
      "metadata": {},
      "outputs": [
        {
          "name": "stdout",
          "output_type": "stream",
          "text": [
            "Ehliyet alamazsiniz.\n"
          ]
        }
      ],
      "source": [
        "isim = str(input())\n",
        "yas = int(input())\n",
        "egitim = str(input())\n",
        "\n",
        "if yas > 18 and egitim == \"lise\" or egitim == \"universite\" or egitim == \"üniversite\":\n",
        "    print(f\"{isim.capitalize()}, yasiniz {yas} ve egitim seviyeniz {egitim}. Ehliyet alabilirsiniz.\")\n",
        "else:\n",
        "    print(\"Ehliyet alamazsiniz.\")"
      ]
    },
    {
      "cell_type": "markdown",
      "metadata": {
        "id": "eUkxVSAE_Te_"
      },
      "source": [
        "# Problem 7\n",
        "Bir yılın artık yıl olup olmadığını kontrol etmek için bir program yazın. \n",
        "Artık yıl kuralı:\n",
        "\n",
        "a) Eğer yılın son iki basamağı (00) ile bitmiyor ve yalnızca 4'e tam bölünüyorsa artık yıldır. Ya da, \n",
        "\n",
        "b) Eğer yıl 400'e tam bölünüyorsa artık yıldır.\n",
        "\n",
        "**Örneğin**\n",
        "```\n",
        "2017 artık yıl değildir.\n",
        "1900 artık yıl değildir\n",
        "2012 artık yıldır.\n",
        "2000 artık yıldır.\n",
        "```"
      ]
    },
    {
      "cell_type": "code",
      "execution_count": 16,
      "metadata": {
        "id": "4uWh8qUL_Te_"
      },
      "outputs": [
        {
          "name": "stdout",
          "output_type": "stream",
          "text": [
            "2000  artik yildir\n"
          ]
        }
      ],
      "source": [
        "# 7.Problemin Çözümünü Buraya Yazınız\n",
        "\n",
        "yil = int(input(\"Yil giriniz: \"))\n",
        "\n",
        "if (yil % 4 == 0 and yil % 100 == 0 or yil % 400 == 0):\n",
        "    print(yil ,\" artik yildir\")\n",
        "else:\n",
        "    print(yil , \"artik yil degildir\")\n"
      ]
    }
  ],
  "metadata": {
    "colab": {
      "provenance": []
    },
    "kernelspec": {
      "display_name": "Python 3.10.5 64-bit",
      "language": "python",
      "name": "python3"
    },
    "language_info": {
      "codemirror_mode": {
        "name": "ipython",
        "version": 3
      },
      "file_extension": ".py",
      "mimetype": "text/x-python",
      "name": "python",
      "nbconvert_exporter": "python",
      "pygments_lexer": "ipython3",
      "version": "3.12.4"
    },
    "orig_nbformat": 4,
    "vscode": {
      "interpreter": {
        "hash": "5026d2d6e7aaaaba093def813beadff083d8733e4a511af01735cbabd156995d"
      }
    }
  },
  "nbformat": 4,
  "nbformat_minor": 0
}

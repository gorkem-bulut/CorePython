{
 "cells": [
  {
   "attachments": {},
   "cell_type": "markdown",
   "metadata": {},
   "source": [
    "# Problem 1\n",
    "\n",
    "Şimdi beraber kullanicilardan aldiğimiz verileri işleyerek, onlara hem çikti verecek, hem de aldiğimiz ve hesapladiğimiz verileri ileride kullanabilmek adina kaydedeceğiz.\n",
    "\n",
    "\n",
    " **Bu bir veri giriş platformu olacak**\n",
    "\n",
    "\n",
    " * kullaniciya kaç giriş yapacağini soracağiz\n",
    "* kullanicidan isim-soyisim, yaş, boy, kilo bilgilerini alarak VKİ hesaplayacağiz\n",
    "* ardindan bunlari siniflara göre kaydedeceğiz bir dosyaya kaydedeceğiz\n",
    "\n",
    "\n",
    "Siniflar ise şu şekilde: \n",
    "* 18, 5 kg/m.\"nin altinda olanlar: Zayif\n",
    "* 18.5 – 24, 9 kg/m. arasinda olanlar: Normal kilolu\n",
    "* 25 – 29, 9 kg/m. arasinda olanlar: Fazla kilolu\n",
    "* 30 – 39, 9 kg/m. arasinda olanlar: Obez\n",
    "* 40 kg/m.\"nin üzerinde olanlar: İleri derecede obez (morbid obez), olarak görülür."
   ]
  },
  {
   "cell_type": "code",
   "execution_count": 5,
   "metadata": {},
   "outputs": [],
   "source": [
    "# 1.Problemin Çözümünü Buraya Yaziniz\n",
    "def mass_index(bmi):\n",
    "    if bmi > 40:\n",
    "        return \"Morbid obez\"\n",
    "    elif bmi > 30:\n",
    "        return \"Obez\"\n",
    "    elif bmi > 25:\n",
    "        return \"Fazla Kilolu\"\n",
    "    elif bmi > 18.5:\n",
    "        return \"Normal Kilolu\"\n",
    "    else:\n",
    "        return \"Zayif\"    \n",
    "\n",
    "def body_index(height, weight):\n",
    "    bmi = weight / (height ** 2)\n",
    "    return round(bmi, 1)\n",
    "\n",
    "def diagnose(name, surname, age, height, weight, bmi, diagnosis):\n",
    "    return f\"İsim: {name}, Soyisim: {surname} Yaş: {age}, Boy: {height} Kilo:{weight}, VKI (BMI): {bmi}, Tehşis: {diagnosis}\"\n",
    "     \n",
    "def output(_output):\n",
    "    with open(\"person_data.txt\", \"a\", encoding = \"utf-8\") as file:\n",
    "        file.write(_output)\n",
    "\n",
    "_input = input(\"Kaç giriş yapmak istediğinizi giriniz:\")\n",
    "\n",
    "for i in range(int(_input)):\n",
    "    name = input(\"Kullanici ismi:\")\n",
    "    surname = input(\"Kullanici soyismi:\")\n",
    "    age = int(input(\"Kullanici yaşi:\"))\n",
    "    height = float(input(\"Kullanici boyu (metre):\"))\n",
    "    height = int(input(\"Metre cinsinden kullanici boyu girişi yapiniz. (Örn 170)\"))\n",
    "    weight = int(input(\"Kullanici kilosu: \"))\n",
    "\n",
    "    bmi = body_index(height, weight)\n",
    "    diagnosis = mass_index(bmi)\n",
    "    _output = diagnose(name, surname, age, height, weight, bmi, diagnosis)\n",
    "    output(_output)\n"
   ]
  },
  {
   "attachments": {},
   "cell_type": "markdown",
   "metadata": {},
   "source": [
    "# Problem 2\n",
    "**YetBar - Smoothie Bank**\n",
    "---\n",
    "YetBar spor salonunun girişinde bulunan, insansiz bir sağlikli içecek otomatidir. Kullanici çeşitli girdiler smoothie içeceğine koyacaği ürünleri belirleyebilir, fiyat hesaplamasi yaptirabilir ya da sadece menüyü görüntüleyebilir.\n",
    "\n",
    "**Projenin Amaci:**\n",
    "\n",
    "*   Birbirini etkileyen ve bir kod içerisinde birden fazla defa başvurulacak fonksiyonlarin oluşturulup, \"fonksiyonel\" proglamlamak.\n",
    "*   Büyük programlari yazarken, yazilimci olarak yapabileceğimiz hatalardan kaçinmak için kontrol yöntemleri geliştirmek.\n",
    "*   Kullanici inputlarini ve yaptiğimiz hesaplari, raporlamak/loglamak amaciyla kaydetmek.\n",
    "\n",
    "**Programdan Beklenen Çiktilar**\n",
    "* Program kullaniciya temelde 2 farkli işlem yapma imkani sağlar.\n",
    "> 1. Menüyü görüntüleme\n",
    "> 3. Satin alma\n",
    "* Satin alinan her içecek tarih, fiyat bilgisi ile kaydedilmeli ve her zaman ulaşilabilir olmalidir.\n",
    "\n",
    "\n"
   ]
  },
  {
   "cell_type": "code",
   "execution_count": 10,
   "metadata": {},
   "outputs": [
    {
     "name": "stdout",
     "output_type": "stream",
     "text": [
      "SMOOTHIE - 1: 15\n",
      "SMOOTHIE - 2: 20\n",
      "SMOOTHIE - 3: 25\n",
      "SMOOTHIE - 4: 45\n"
     ]
    }
   ],
   "source": [
    "# 2.Problemin Çözümünü Buraya Yaziniz\n",
    "\n",
    "menu = {\n",
    "    \"Smoothie - 1\": 15,\n",
    "    \"Smoothie - 2\": 20,\n",
    "    \"Smoothie - 3\": 25,\n",
    "    \"Smoothie - 4\": 45, \n",
    "}\n",
    "\n",
    "class Person():\n",
    "    def __init__(self, toplam = 0):\n",
    "        self.toplam = toplam\n",
    "    \n",
    "    def menu(self):\n",
    "        for i in menu:\n",
    "            print(f\"{i.upper()}: {menu[i]}\")\n",
    "    \n",
    "    def satin_al(self):\n",
    "        while True:\n",
    "            j = input(\"Almak istediginiz iceceği isteyiniz: \")\n",
    "            if j not in menu:\n",
    "                break\n",
    "            k = input(\"Almak istediğiniz adeti giriniz: \")\n",
    "            if j in menu:\n",
    "                self.toplam += float(menu.get(j))* float(k)\n",
    "        print(self.toplam)\n",
    "\n",
    "p1 = Person()\n",
    "\n",
    "while True:\n",
    "    _input = input(\"1 - Menüyü görüntüle, 2 - Satin Al\" )\n",
    "    if _input == \"1\":\n",
    "        p1.menu()\n",
    "        break\n",
    "    if _input ==\"2\":\n",
    "        p1.satin_al()\n",
    "        break"
   ]
  }
 ],
 "metadata": {
  "kernelspec": {
   "display_name": "Python 3",
   "language": "python",
   "name": "python3"
  },
  "language_info": {
   "codemirror_mode": {
    "name": "ipython",
    "version": 3
   },
   "file_extension": ".py",
   "mimetype": "text/x-python",
   "name": "python",
   "nbconvert_exporter": "python",
   "pygments_lexer": "ipython3",
   "version": "3.12.3"
  },
  "orig_nbformat": 4,
  "vscode": {
   "interpreter": {
    "hash": "5026d2d6e7aaaaba093def813beadff083d8733e4a511af01735cbabd156995d"
   }
  }
 },
 "nbformat": 4,
 "nbformat_minor": 2
}

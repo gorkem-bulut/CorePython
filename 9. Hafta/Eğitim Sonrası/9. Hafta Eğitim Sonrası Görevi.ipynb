{
 "cells": [
  {
   "attachments": {},
   "cell_type": "markdown",
   "metadata": {},
   "source": [
    "# Problem 1\n",
    "\n",
    "Kumanda isminde bir sınıf oluşturarak aşağıdaki işlemleri yapmasını sağlayan fonksiyonları sınıf içerisinde yazalım.\n",
    "1. Tv Aç\n",
    "2. Tv Kapat\n",
    "3. Ses Ayarları\n",
    "4. Kanal Ekle\n",
    "5. Kanal Sayısını Öğrenme\n",
    "6. Rastgele Kanala Geçme\n",
    "7. Televizyon Bilgileri\n",
    "\n",
    "\n",
    "Kumandayı kapatmak için q tuşuna basılmalı ve diğer durumlarda hangi işlemi yapmak istediği sorulmalıdır. Her işlemde gerekli fonksiyonunun sınıf içerisinden çağırılması gerekmektedir.\n",
    "\n",
    "random ve time kütüphanesini araştırarak kullanabilirsiniz.\n",
    "\n",
    "Kendi istediğiniz özellikleri eklemekte serbetsiniz."
   ]
  },
  {
   "cell_type": "code",
   "execution_count": 36,
   "metadata": {},
   "outputs": [
    {
     "name": "stdout",
     "output_type": "stream",
     "text": [
      "TV KAPANDI\n"
     ]
    }
   ],
   "source": [
    "# 1.Problemin Çözümünü Buraya Yazınız\n",
    "\n",
    "class Kumanda():\n",
    "    def __init__(self, on, off, soundSetting, addChannel, channelNumberInfo, selectRandomChannel, tvInfo):\n",
    "        self.on = on\n",
    "        self.off = off\n",
    "        self.soundSetting = soundSetting\n",
    "        self.addChannel = addChannel\n",
    "        self.channelNumberInfo = channelNumberInfo\n",
    "        self.selectRandomChannel = selectRandomChannel\n",
    "        self.tvInfo = tvInfo\n",
    "\n",
    "    def tvOff(self, off):\n",
    "        if off == input(\"Kapatmak icin q'ya, devam etmek icin herhangi bir tusa basiniz.\") == \"q\" or \"Q\":\n",
    "            print(\"TV KAPANDI\")\n",
    "        else:\n",
    "            print(\"Ne islem yapmak istiyorsunuz?\")\n",
    "    \n",
    "kumanda = Kumanda(\"q\", \"a\", \"b\", \"c\", \"d\", \"e\", \"f\")\n",
    "kumanda.tvOff(\"q\")\n",
    "\n",
    "#rahatlikla gelistirilebilir, sonra bakalim"
   ]
  }
 ],
 "metadata": {
  "kernelspec": {
   "display_name": "Python 3",
   "language": "python",
   "name": "python3"
  },
  "language_info": {
   "codemirror_mode": {
    "name": "ipython",
    "version": 3
   },
   "file_extension": ".py",
   "mimetype": "text/x-python",
   "name": "python",
   "nbconvert_exporter": "python",
   "pygments_lexer": "ipython3",
   "version": "3.12.3"
  },
  "orig_nbformat": 4,
  "vscode": {
   "interpreter": {
    "hash": "5026d2d6e7aaaaba093def813beadff083d8733e4a511af01735cbabd156995d"
   }
  }
 },
 "nbformat": 4,
 "nbformat_minor": 2
}
